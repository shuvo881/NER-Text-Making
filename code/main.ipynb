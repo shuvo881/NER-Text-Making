{
 "cells": [
  {
   "cell_type": "markdown",
   "metadata": {},
   "source": [
    "# Dataset Load and Analysis or EDA"
   ]
  },
  {
   "cell_type": "code",
   "execution_count": 1,
   "metadata": {
    "_cell_guid": "b1076dfc-b9ad-4769-8c92-a6c4dae69d19",
    "_uuid": "8f2839f25d086af736a60e9eeb907d3b93b6e0e5",
    "execution": {
     "iopub.execute_input": "2025-01-22T07:47:58.351631Z",
     "iopub.status.busy": "2025-01-22T07:47:58.351275Z",
     "iopub.status.idle": "2025-01-22T07:47:58.373140Z",
     "shell.execute_reply": "2025-01-22T07:47:58.372137Z",
     "shell.execute_reply.started": "2025-01-22T07:47:58.351603Z"
    },
    "trusted": true
   },
   "outputs": [
    {
     "name": "stdout",
     "output_type": "stream",
     "text": [
      "../data/input/Multiple_NER_Bengali_Dataset.csv\n"
     ]
    }
   ],
   "source": [
    "\n",
    "\n",
    "import numpy as np \n",
    "import pandas as pd \n",
    "\n",
    "\n",
    "import os\n",
    "for dirname, _, filenames in os.walk('../data/input'):\n",
    "    for filename in filenames:\n",
    "        print(os.path.join(dirname, filename))\n"
   ]
  },
  {
   "cell_type": "code",
   "execution_count": 2,
   "metadata": {
    "execution": {
     "iopub.execute_input": "2025-01-22T07:47:58.374777Z",
     "iopub.status.busy": "2025-01-22T07:47:58.374494Z",
     "iopub.status.idle": "2025-01-22T07:48:00.371843Z",
     "shell.execute_reply": "2025-01-22T07:48:00.371096Z",
     "shell.execute_reply.started": "2025-01-22T07:47:58.374753Z"
    },
    "trusted": true
   },
   "outputs": [
    {
     "data": {
      "text/html": [
       "<div>\n",
       "<style scoped>\n",
       "    .dataframe tbody tr th:only-of-type {\n",
       "        vertical-align: middle;\n",
       "    }\n",
       "\n",
       "    .dataframe tbody tr th {\n",
       "        vertical-align: top;\n",
       "    }\n",
       "\n",
       "    .dataframe thead th {\n",
       "        text-align: right;\n",
       "    }\n",
       "</style>\n",
       "<table border=\"1\" class=\"dataframe\">\n",
       "  <thead>\n",
       "    <tr style=\"text-align: right;\">\n",
       "      <th></th>\n",
       "      <th>sentence</th>\n",
       "    </tr>\n",
       "  </thead>\n",
       "  <tbody>\n",
       "    <tr>\n",
       "      <th>0</th>\n",
       "      <td>ব্যবহারকারীর নাম হলো তানভীর. প্রকাশকের নাম ইত্...</td>\n",
       "    </tr>\n",
       "    <tr>\n",
       "      <th>1</th>\n",
       "      <td>বইটির নাম গীতাঞ্জলি. ব্যবহারকারীর নাম হলো আফসানা.</td>\n",
       "    </tr>\n",
       "    <tr>\n",
       "      <th>2</th>\n",
       "      <td>ব্র্যান্ডটি হলো সনি. ব্যবহারকারীর নাম হলো মাহম...</td>\n",
       "    </tr>\n",
       "    <tr>\n",
       "      <th>3</th>\n",
       "      <td>ঠিকানাটি হলো গুলশান, ঢাকা. পণ্যের নাম ডেল ল্যা...</td>\n",
       "    </tr>\n",
       "    <tr>\n",
       "      <th>4</th>\n",
       "      <td>বইটির নাম পথের পাঁচালী. ব্র্যান্ডটি হলো নোকিয়...</td>\n",
       "    </tr>\n",
       "    <tr>\n",
       "      <th>5</th>\n",
       "      <td>বিষয়শ্রেণী ফ্যাশন অন্তর্ভুক্ত। প্রকাশকের নাম ...</td>\n",
       "    </tr>\n",
       "    <tr>\n",
       "      <th>6</th>\n",
       "      <td>ঠিকানাটি হলো শাহবাগ, চট্টগ্রাম. অর্ডার নম্বরটি...</td>\n",
       "    </tr>\n",
       "    <tr>\n",
       "      <th>7</th>\n",
       "      <td>বইটির নাম পথের পাঁচালী. ফোন নম্বর ০১৭১২৩৪৫৬৭৮।...</td>\n",
       "    </tr>\n",
       "    <tr>\n",
       "      <th>8</th>\n",
       "      <td>পণ্যের নাম নোকিয়া মোবাইল। প্রকাশকের নাম সেবা ...</td>\n",
       "    </tr>\n",
       "    <tr>\n",
       "      <th>9</th>\n",
       "      <td>ব্র্যান্ডটি হলো নোকিয়া. ব্যবহারকারীর নাম হলো ...</td>\n",
       "    </tr>\n",
       "  </tbody>\n",
       "</table>\n",
       "</div>"
      ],
      "text/plain": [
       "                                            sentence\n",
       "0  ব্যবহারকারীর নাম হলো তানভীর. প্রকাশকের নাম ইত্...\n",
       "1  বইটির নাম গীতাঞ্জলি. ব্যবহারকারীর নাম হলো আফসানা.\n",
       "2  ব্র্যান্ডটি হলো সনি. ব্যবহারকারীর নাম হলো মাহম...\n",
       "3  ঠিকানাটি হলো গুলশান, ঢাকা. পণ্যের নাম ডেল ল্যা...\n",
       "4  বইটির নাম পথের পাঁচালী. ব্র্যান্ডটি হলো নোকিয়...\n",
       "5  বিষয়শ্রেণী ফ্যাশন অন্তর্ভুক্ত। প্রকাশকের নাম ...\n",
       "6  ঠিকানাটি হলো শাহবাগ, চট্টগ্রাম. অর্ডার নম্বরটি...\n",
       "7  বইটির নাম পথের পাঁচালী. ফোন নম্বর ০১৭১২৩৪৫৬৭৮।...\n",
       "8  পণ্যের নাম নোকিয়া মোবাইল। প্রকাশকের নাম সেবা ...\n",
       "9  ব্র্যান্ডটি হলো নোকিয়া. ব্যবহারকারীর নাম হলো ..."
      ]
     },
     "execution_count": 2,
     "metadata": {},
     "output_type": "execute_result"
    }
   ],
   "source": [
    "df = pd.read_csv('../data/input/Multiple_NER_Bengali_Dataset.csv')\n",
    "df.head(10)"
   ]
  },
  {
   "cell_type": "code",
   "execution_count": 3,
   "metadata": {
    "execution": {
     "iopub.execute_input": "2025-01-22T07:48:00.393348Z",
     "iopub.status.busy": "2025-01-22T07:48:00.392997Z",
     "iopub.status.idle": "2025-01-22T07:48:00.404825Z",
     "shell.execute_reply": "2025-01-22T07:48:00.403941Z",
     "shell.execute_reply.started": "2025-01-22T07:48:00.393323Z"
    },
    "trusted": true
   },
   "outputs": [
    {
     "data": {
      "text/plain": [
       "0       ব্যবহারকারীর নাম হলো তানভীর. প্রকাশকের নাম ইত্...\n",
       "1       বইটির নাম গীতাঞ্জলি. ব্যবহারকারীর নাম হলো আফসানা.\n",
       "2       ব্র্যান্ডটি হলো সনি. ব্যবহারকারীর নাম হলো মাহম...\n",
       "3       ঠিকানাটি হলো গুলশান, ঢাকা. পণ্যের নাম ডেল ল্যা...\n",
       "4       বইটির নাম পথের পাঁচালী. ব্র্যান্ডটি হলো নোকিয়...\n",
       "                              ...                        \n",
       "1495    পণ্যের নাম ডেল ল্যাপটপ। প্রকাশকের নাম প্রথমা প...\n",
       "1496    লেখকের নাম আহমদ ছফা। বইটির নাম গীতাঞ্জলি. প্রক...\n",
       "1497    ঠিকানাটি হলো গুলশান, ঢাকা. তারিখটি ১৫ আগস্ট ২০২২।\n",
       "1498    ঠিকানাটি হলো ধানমন্ডি, ঢাকা. ব্যবহারকারীর নাম ...\n",
       "1499    ব্যবহারকারীর নাম হলো তানভীর. পণ্যের নাম নোকিয়...\n",
       "Name: sentence, Length: 1500, dtype: object"
      ]
     },
     "execution_count": 3,
     "metadata": {},
     "output_type": "execute_result"
    }
   ],
   "source": [
    "# extract messages\n",
    "messages_df = df['sentence']\n",
    "messages_df"
   ]
  },
  {
   "cell_type": "markdown",
   "metadata": {},
   "source": [
    "## Remove URL"
   ]
  },
  {
   "cell_type": "code",
   "execution_count": 4,
   "metadata": {
    "execution": {
     "iopub.execute_input": "2025-01-22T07:48:00.406231Z",
     "iopub.status.busy": "2025-01-22T07:48:00.405880Z",
     "iopub.status.idle": "2025-01-22T07:48:00.485817Z",
     "shell.execute_reply": "2025-01-22T07:48:00.485049Z",
     "shell.execute_reply.started": "2025-01-22T07:48:00.406198Z"
    },
    "trusted": true
   },
   "outputs": [
    {
     "data": {
      "text/plain": [
       "0    ব্যবহারকারীর নাম হলো তানভীর. প্রকাশকের নাম ইত্...\n",
       "1    বইটির নাম গীতাঞ্জলি. ব্যবহারকারীর নাম হলো আফসানা.\n",
       "2    ব্র্যান্ডটি হলো সনি. ব্যবহারকারীর নাম হলো মাহম...\n",
       "3    ঠিকানাটি হলো গুলশান, ঢাকা. পণ্যের নাম ডেল ল্যা...\n",
       "4    বইটির নাম পথের পাঁচালী. ব্র্যান্ডটি হলো নোকিয়...\n",
       "5    বিষয়শ্রেণী ফ্যাশন অন্তর্ভুক্ত। প্রকাশকের নাম ...\n",
       "6    ঠিকানাটি হলো শাহবাগ, চট্টগ্রাম. অর্ডার নম্বরটি...\n",
       "7    বইটির নাম পথের পাঁচালী. ফোন নম্বর ০১৭১২৩৪৫৬৭৮।...\n",
       "8    পণ্যের নাম নোকিয়া মোবাইল। প্রকাশকের নাম সেবা ...\n",
       "9    ব্র্যান্ডটি হলো নোকিয়া. ব্যবহারকারীর নাম হলো ...\n",
       "Name: sentence, dtype: object"
      ]
     },
     "execution_count": 4,
     "metadata": {},
     "output_type": "execute_result"
    }
   ],
   "source": [
    "import pandas as pd\n",
    "import re\n",
    "\n",
    "def remove_urls(text):\n",
    "    \"\"\"Remove URLs while preserving the rest of the text\"\"\"\n",
    "    if pd.isna(text):\n",
    "        return text\n",
    "    \n",
    "    # URL pattern\n",
    "    url_pattern = r'http[s]?://(?:[a-zA-Z]|[0-9]|[$-_@.&+]|[!*\\\\(\\\\),]|(?:%[0-9a-fA-F][0-9a-fA-F]))+'\n",
    "    \n",
    "    text = re.sub(url_pattern, '', str(text))\n",
    "    \n",
    "    text = re.sub(r'\\s+', ' ', text).strip()\n",
    "    \n",
    "    return text\n",
    "\n",
    "messages_df = messages_df.apply(remove_urls)\n",
    "\n",
    "messages_df.head(10)"
   ]
  },
  {
   "cell_type": "markdown",
   "metadata": {},
   "source": [
    "## Remove Empty Srting"
   ]
  },
  {
   "cell_type": "code",
   "execution_count": 5,
   "metadata": {
    "execution": {
     "iopub.execute_input": "2025-01-22T07:48:00.486904Z",
     "iopub.status.busy": "2025-01-22T07:48:00.486675Z",
     "iopub.status.idle": "2025-01-22T07:48:00.511197Z",
     "shell.execute_reply": "2025-01-22T07:48:00.510417Z",
     "shell.execute_reply.started": "2025-01-22T07:48:00.486884Z"
    },
    "trusted": true
   },
   "outputs": [
    {
     "name": "stdout",
     "output_type": "stream",
     "text": [
      "Sample messages:\n",
      "0    ব্যবহারকারীর নাম হলো তানভীর. প্রকাশকের নাম ইত্...\n",
      "1    বইটির নাম গীতাঞ্জলি. ব্যবহারকারীর নাম হলো আফসানা.\n",
      "2    ব্র্যান্ডটি হলো সনি. ব্যবহারকারীর নাম হলো মাহম...\n",
      "3    ঠিকানাটি হলো গুলশান, ঢাকা. পণ্যের নাম ডেল ল্যা...\n",
      "4    বইটির নাম পথের পাঁচালী. ব্র্যান্ডটি হলো নোকিয়...\n",
      "Name: sentence, dtype: object\n",
      "\n",
      "Total messages after cleaning: 1500\n"
     ]
    }
   ],
   "source": [
    "import pandas as pd\n",
    "import re\n",
    "\n",
    "def clean_messages(messages_df):\n",
    "    # Remove URLs\n",
    "    messages_df = messages_df.apply(lambda x: re.sub(r'http[s]?://\\S+', '', str(x)))\n",
    "    \n",
    "    # Remove empty strings and whitespace-only strings\n",
    "    messages_df = messages_df[messages_df.str.strip() != '']\n",
    "    \n",
    "    return messages_df\n",
    "\n",
    "messages_df = clean_messages(messages_df)\n",
    "\n",
    "print(\"Sample messages:\")\n",
    "print(messages_df.head())\n",
    "print(f\"\\nTotal messages after cleaning: {len(messages_df)}\")"
   ]
  },
  {
   "cell_type": "markdown",
   "metadata": {},
   "source": [
    "## Null Value Check"
   ]
  },
  {
   "cell_type": "code",
   "execution_count": 6,
   "metadata": {
    "execution": {
     "iopub.execute_input": "2025-01-22T07:48:00.512389Z",
     "iopub.status.busy": "2025-01-22T07:48:00.512117Z",
     "iopub.status.idle": "2025-01-22T07:48:00.525098Z",
     "shell.execute_reply": "2025-01-22T07:48:00.524299Z",
     "shell.execute_reply.started": "2025-01-22T07:48:00.512366Z"
    },
    "trusted": true
   },
   "outputs": [
    {
     "data": {
      "text/plain": [
       "np.int64(0)"
      ]
     },
     "execution_count": 6,
     "metadata": {},
     "output_type": "execute_result"
    }
   ],
   "source": [
    "messages_df.isna().sum()"
   ]
  },
  {
   "cell_type": "markdown",
   "metadata": {},
   "source": [
    "## Duplicate checking"
   ]
  },
  {
   "cell_type": "code",
   "execution_count": 7,
   "metadata": {
    "execution": {
     "iopub.execute_input": "2025-01-22T07:48:00.528007Z",
     "iopub.status.busy": "2025-01-22T07:48:00.527757Z",
     "iopub.status.idle": "2025-01-22T07:48:00.538819Z",
     "shell.execute_reply": "2025-01-22T07:48:00.537989Z",
     "shell.execute_reply.started": "2025-01-22T07:48:00.527985Z"
    },
    "trusted": true
   },
   "outputs": [
    {
     "data": {
      "text/plain": [
       "np.int64(39)"
      ]
     },
     "execution_count": 7,
     "metadata": {},
     "output_type": "execute_result"
    }
   ],
   "source": [
    "messages_df.duplicated().sum()"
   ]
  },
  {
   "cell_type": "markdown",
   "metadata": {},
   "source": [
    "## Remove Duplicate"
   ]
  },
  {
   "cell_type": "code",
   "execution_count": 8,
   "metadata": {
    "execution": {
     "iopub.execute_input": "2025-01-22T07:48:00.540591Z",
     "iopub.status.busy": "2025-01-22T07:48:00.540242Z",
     "iopub.status.idle": "2025-01-22T07:48:00.551224Z",
     "shell.execute_reply": "2025-01-22T07:48:00.550427Z",
     "shell.execute_reply.started": "2025-01-22T07:48:00.540563Z"
    },
    "trusted": true
   },
   "outputs": [],
   "source": [
    "messages_df.drop_duplicates(inplace=True)"
   ]
  },
  {
   "cell_type": "markdown",
   "metadata": {},
   "source": [
    "## Convert Data Frame to List"
   ]
  },
  {
   "cell_type": "code",
   "execution_count": 9,
   "metadata": {
    "execution": {
     "iopub.execute_input": "2025-01-22T07:48:00.552259Z",
     "iopub.status.busy": "2025-01-22T07:48:00.551989Z",
     "iopub.status.idle": "2025-01-22T07:48:00.565145Z",
     "shell.execute_reply": "2025-01-22T07:48:00.564377Z",
     "shell.execute_reply.started": "2025-01-22T07:48:00.552237Z"
    },
    "trusted": true
   },
   "outputs": [
    {
     "data": {
      "text/plain": [
       "['ব্যবহারকারীর নাম হলো তানভীর. প্রকাশকের নাম ইত্যাদি গ্রন্থ প্রকাশ. অর্ডার নম্বরটি ORD11121. বইটির নাম বিষাদসিন্ধু.',\n",
       " 'বইটির নাম গীতাঞ্জলি. ব্যবহারকারীর নাম হলো আফসানা.',\n",
       " 'ব্র্যান্ডটি হলো সনি. ব্যবহারকারীর নাম হলো মাহমুদুল. অর্ডার নম্বরটি ORD11121.',\n",
       " 'ঠিকানাটি হলো গুলশান, ঢাকা. পণ্যের নাম ডেল ল্যাপটপ। তারিখটি ১৫ আগস্ট ২০২২।',\n",
       " 'বইটির নাম পথের পাঁচালী. ব্র্যান্ডটি হলো নোকিয়া. লেনদেন নম্বর TXN987654. ফোন নম্বর ০১৮৯৮৭৬৫৪৩২।',\n",
       " 'বিষয়শ্রেণী ফ্যাশন অন্তর্ভুক্ত। প্রকাশকের নাম সেবা প্রকাশনী.',\n",
       " 'ঠিকানাটি হলো শাহবাগ, চট্টগ্রাম. অর্ডার নম্বরটি ORD67890.',\n",
       " 'বইটির নাম পথের পাঁচালী. ফোন নম্বর ০১৭১২৩৪৫৬৭৮। ঠিকানাটি হলো কক্সবাজার, চট্টগ্রাম.',\n",
       " 'পণ্যের নাম নোকিয়া মোবাইল। প্রকাশকের নাম সেবা প্রকাশনী. লেখকের নাম রবীন্দ্রনাথ ঠাকুর।',\n",
       " 'ব্র্যান্ডটি হলো নোকিয়া. ব্যবহারকারীর নাম হলো আফসানা. ঠিকানাটি হলো গুলশান, ঢাকা. আইডি নম্বর হলো ID2023004।']"
      ]
     },
     "execution_count": 9,
     "metadata": {},
     "output_type": "execute_result"
    }
   ],
   "source": [
    "messages = messages_df.tolist()\n",
    "\n",
    "# Display 10 messages from top\n",
    "messages[:10]"
   ]
  },
  {
   "cell_type": "markdown",
   "metadata": {},
   "source": [
    "# Load Model"
   ]
  },
  {
   "cell_type": "code",
   "execution_count": 10,
   "metadata": {
    "execution": {
     "iopub.execute_input": "2025-01-22T07:48:00.566172Z",
     "iopub.status.busy": "2025-01-22T07:48:00.565873Z",
     "iopub.status.idle": "2025-01-22T07:48:00.860402Z",
     "shell.execute_reply": "2025-01-22T07:48:00.859427Z",
     "shell.execute_reply.started": "2025-01-22T07:48:00.566148Z"
    },
    "trusted": true
   },
   "outputs": [],
   "source": [
    "from dotenv import load_dotenv\n",
    "#from kaggle_secrets import UserSecretsClient\n",
    "#user_secrets = UserSecretsClient()\n",
    "load_dotenv()\n",
    "\n",
    "\n",
    "#api_key = user_secrets.get_secret(\"OPENAI_API_KEY\")\n",
    "api_key = os.getenv(\"OPENAI_API_KEY\")\n"
   ]
  },
  {
   "cell_type": "code",
   "execution_count": 11,
   "metadata": {
    "execution": {
     "iopub.execute_input": "2025-01-22T07:48:00.861628Z",
     "iopub.status.busy": "2025-01-22T07:48:00.861357Z",
     "iopub.status.idle": "2025-01-22T07:48:00.927827Z",
     "shell.execute_reply": "2025-01-22T07:48:00.927092Z",
     "shell.execute_reply.started": "2025-01-22T07:48:00.861605Z"
    },
    "trusted": true
   },
   "outputs": [],
   "source": [
    "from openai import OpenAI\n",
    "\n",
    "client = OpenAI(api_key=api_key)"
   ]
  },
  {
   "cell_type": "markdown",
   "metadata": {},
   "source": [
    "## Define Structured Outputs Formate"
   ]
  },
  {
   "cell_type": "code",
   "execution_count": 12,
   "metadata": {
    "execution": {
     "iopub.execute_input": "2025-01-22T07:48:00.928940Z",
     "iopub.status.busy": "2025-01-22T07:48:00.928710Z",
     "iopub.status.idle": "2025-01-22T07:48:00.940363Z",
     "shell.execute_reply": "2025-01-22T07:48:00.939576Z",
     "shell.execute_reply.started": "2025-01-22T07:48:00.928920Z"
    },
    "trusted": true
   },
   "outputs": [],
   "source": [
    "from pydantic import BaseModel, Field\n",
    "from typing import Optional\n",
    "\n",
    "class NER(BaseModel):\n",
    "    Message: Optional[str] = Field(None, description=\"The message or text to be analyzed.\")\n",
    "    username: Optional[str] = Field(None, description=\"The user's name entity.\")\n",
    "    authorname: Optional[str] = Field(None, description=\"The name of the author.\")\n",
    "    Address: Optional[str] = Field(None, description=\"The address entity.\")\n",
    "    bookname: Optional[str] = Field(None, description=\"The name of the book.\")\n",
    "    productname: Optional[str] = Field(None, description=\"The name of the product.\")\n",
    "    publishername: Optional[str] = Field(None, description=\"The name of the publisher.\")\n",
    "    categoryname: Optional[str] = Field(None, description=\"The name of the category.\")\n",
    "    brandname: Optional[str] = Field(None, description=\"The name of the brand.\")\n",
    "    date: Optional[str] = Field(None, description=\"Date information.\")\n",
    "    phoneno: Optional[str] = Field(None, description=\"The phone number entity.\")\n",
    "    orderno: Optional[str] = Field(None, description=\"The order number entity.\")\n",
    "    trnx_ID: Optional[str] = Field(None, description=\"The transaction ID entity.\")\n",
    "\n"
   ]
  },
  {
   "cell_type": "markdown",
   "metadata": {},
   "source": [
    "# Test Single Massage and extract NER"
   ]
  },
  {
   "cell_type": "code",
   "execution_count": 13,
   "metadata": {
    "execution": {
     "iopub.execute_input": "2025-01-22T07:48:00.941412Z",
     "iopub.status.busy": "2025-01-22T07:48:00.941121Z",
     "iopub.status.idle": "2025-01-22T07:48:00.955061Z",
     "shell.execute_reply": "2025-01-22T07:48:00.954126Z",
     "shell.execute_reply.started": "2025-01-22T07:48:00.941380Z"
    },
    "trusted": true
   },
   "outputs": [
    {
     "data": {
      "text/plain": [
       "'ব্র্যান্ডটি হলো সনি. ব্যবহারকারীর নাম হলো মাহমুদুল. অর্ডার নম্বরটি ORD11121.'"
      ]
     },
     "execution_count": 13,
     "metadata": {},
     "output_type": "execute_result"
    }
   ],
   "source": [
    "messages[2]"
   ]
  },
  {
   "cell_type": "code",
   "execution_count": 14,
   "metadata": {
    "execution": {
     "iopub.execute_input": "2025-01-22T07:48:00.956398Z",
     "iopub.status.busy": "2025-01-22T07:48:00.955993Z",
     "iopub.status.idle": "2025-01-22T07:48:00.965654Z",
     "shell.execute_reply": "2025-01-22T07:48:00.964843Z",
     "shell.execute_reply.started": "2025-01-22T07:48:00.956353Z"
    },
    "trusted": true
   },
   "outputs": [],
   "source": [
    "system_prompt = \"You are expart to extract the user information with NER. User provided messages will Bengla, English or Both\""
   ]
  },
  {
   "cell_type": "code",
   "execution_count": 15,
   "metadata": {
    "execution": {
     "iopub.execute_input": "2025-01-22T07:48:00.966956Z",
     "iopub.status.busy": "2025-01-22T07:48:00.966692Z",
     "iopub.status.idle": "2025-01-22T07:48:04.116195Z",
     "shell.execute_reply": "2025-01-22T07:48:04.115223Z",
     "shell.execute_reply.started": "2025-01-22T07:48:00.966934Z"
    },
    "trusted": true
   },
   "outputs": [
    {
     "data": {
      "text/plain": [
       "NER(Message='ব্র্যান্ডটি হলো সনি. ব্যবহারকারীর নাম হলো মাহমুদুল. অর্ডার নম্বরটি ORD11121.', username='মাহমুদুল', authorname=None, Address=None, bookname=None, productname=None, publishername=None, categoryname=None, brandname='সনি', date=None, phoneno=None, orderno='ORD11121', trnx_ID=None)"
      ]
     },
     "execution_count": 15,
     "metadata": {},
     "output_type": "execute_result"
    }
   ],
   "source": [
    "\n",
    "completion = client.beta.chat.completions.parse(\n",
    "    model=\"gpt-4o-2024-08-06\",\n",
    "    messages=[\n",
    "        {\"role\": \"system\", \"content\": system_prompt},\n",
    "        {\"role\": \"user\", \"content\": f\"This is user message:\\n{messages[2]}\"},\n",
    "    ],\n",
    "    response_format=NER,\n",
    ")\n",
    "\n",
    "usr_ner = completion.choices[0].message.parsed\n",
    "usr_ner"
   ]
  },
  {
   "cell_type": "markdown",
   "metadata": {},
   "source": [
    "### Convert It Dectionary"
   ]
  },
  {
   "cell_type": "code",
   "execution_count": 16,
   "metadata": {
    "execution": {
     "iopub.execute_input": "2025-01-22T07:48:04.117538Z",
     "iopub.status.busy": "2025-01-22T07:48:04.117193Z",
     "iopub.status.idle": "2025-01-22T07:48:04.123546Z",
     "shell.execute_reply": "2025-01-22T07:48:04.122472Z",
     "shell.execute_reply.started": "2025-01-22T07:48:04.117505Z"
    },
    "trusted": true
   },
   "outputs": [
    {
     "name": "stdout",
     "output_type": "stream",
     "text": [
      "{\n",
      "    \"text\": \"ব্র্যান্ডটি হলো সনি. ব্যবহারকারীর নাম হলো মাহমুদুল. অর্ডার নম্বরটি ORD11121.\",\n",
      "    \"entities\": [\n",
      "        {\n",
      "            \"entity\": \"username\",\n",
      "            \"value\": \"মাহমুদুল\"\n",
      "        },\n",
      "        {\n",
      "            \"entity\": \"authorname\",\n",
      "            \"value\": null\n",
      "        },\n",
      "        {\n",
      "            \"entity\": \"Address\",\n",
      "            \"value\": null\n",
      "        },\n",
      "        {\n",
      "            \"entity\": \"bookname\",\n",
      "            \"value\": null\n",
      "        },\n",
      "        {\n",
      "            \"entity\": \"productname\",\n",
      "            \"value\": null\n",
      "        },\n",
      "        {\n",
      "            \"entity\": \"publishername\",\n",
      "            \"value\": null\n",
      "        },\n",
      "        {\n",
      "            \"entity\": \"categoryname\",\n",
      "            \"value\": null\n",
      "        },\n",
      "        {\n",
      "            \"entity\": \"brandname\",\n",
      "            \"value\": \"সনি\"\n",
      "        },\n",
      "        {\n",
      "            \"entity\": \"date\",\n",
      "            \"value\": null\n",
      "        },\n",
      "        {\n",
      "            \"entity\": \"phoneno\",\n",
      "            \"value\": null\n",
      "        },\n",
      "        {\n",
      "            \"entity\": \"orderno\",\n",
      "            \"value\": \"ORD11121\"\n",
      "        },\n",
      "        {\n",
      "            \"entity\": \"trnx_ID\",\n",
      "            \"value\": null\n",
      "        }\n",
      "    ]\n",
      "}\n"
     ]
    }
   ],
   "source": [
    "import json\n",
    "\n",
    "ner_dict = {\n",
    "    \"text\": usr_ner.Message,\n",
    "    'entities' : [\n",
    "            \n",
    "            {\"entity\" : \"username\", \"value\" : usr_ner.username},\n",
    "            {\"entity\" : \"authorname\", \"value\": usr_ner.authorname},\n",
    "            {\"entity\" : \"Address\", \"value\": usr_ner.Address},\n",
    "            {\"entity\" : \"bookname\", \"value\": usr_ner.bookname},\n",
    "            {\"entity\" : \"productname\", \"value\": usr_ner.productname},\n",
    "            {\"entity\" : \"publishername\", \"value\": usr_ner.publishername},\n",
    "            {\"entity\" : \"categoryname\", \"value\": usr_ner.categoryname},\n",
    "            {\"entity\" : \"brandname\", \"value\": usr_ner.brandname},\n",
    "            {\"entity\" : \"date\", \"value\": usr_ner.date},\n",
    "            {\"entity\" : \"phoneno\", \"value\": usr_ner.phoneno},\n",
    "            {\"entity\" : \"orderno\", \"value\": usr_ner.orderno},\n",
    "            {\"entity\" : \"trnx_ID\", \"value\": usr_ner.trnx_ID},\n",
    "            \n",
    "        ]\n",
    "}\n",
    "\n",
    "ner_json = json.dumps(ner_dict, ensure_ascii=False, indent=4)\n",
    "print(ner_json)"
   ]
  },
  {
   "cell_type": "code",
   "execution_count": 17,
   "metadata": {
    "execution": {
     "execution_failed": "2025-01-22T07:55:35.574Z",
     "iopub.execute_input": "2025-01-22T07:48:04.124920Z",
     "iopub.status.busy": "2025-01-22T07:48:04.124601Z"
    },
    "trusted": true
   },
   "outputs": [
    {
     "name": "stderr",
     "output_type": "stream",
     "text": [
      "Processing User Messages: 100%|██████████| 1461/1461 [1:17:20<00:00,  3.18s/it]\n"
     ]
    }
   ],
   "source": [
    "from tqdm import tqdm\n",
    "\n",
    "parsed_events = []\n",
    "\n",
    "for message in tqdm(messages, desc=\"Processing User Messages\"):\n",
    "    completion = client.beta.chat.completions.parse(\n",
    "        model=\"gpt-4o-2024-08-06\",\n",
    "        messages=[\n",
    "            {\"role\": \"system\", \"content\": system_prompt},\n",
    "            {\"role\": \"user\", \"content\": f\"This is user message:\\n{message}\"},\n",
    "        ],\n",
    "        response_format=NER,\n",
    "    )\n",
    "    usr_message = completion.choices[0].message.parsed\n",
    "\n",
    "  \n",
    "    usr_message_dict = {\n",
    "        \"Message\": message,\n",
    "        \"username\": usr_message.username,\n",
    "        \"authorname\": usr_message.authorname,\n",
    "        \"Address\": usr_message.Address,\n",
    "        \"bookname\": usr_message.bookname,\n",
    "        \"productname\": usr_message.productname,\n",
    "        \"publishername\": usr_message.publishername,\n",
    "        \"categoryname\": usr_message.categoryname,\n",
    "        \"brandname\": usr_message.brandname,\n",
    "        \"date\": usr_message.date,\n",
    "        \"phoneno\": usr_message.phoneno,\n",
    "        \"orderno\": usr_message.orderno,\n",
    "        \"trnx_ID\": usr_message.trnx_ID,\n",
    "    }\n",
    "\n",
    "    parsed_events.append(usr_message_dict)\n",
    "\n",
    "\n",
    "\n",
    "\n"
   ]
  },
  {
   "cell_type": "code",
   "execution_count": 19,
   "metadata": {},
   "outputs": [
    {
     "name": "stdout",
     "output_type": "stream",
     "text": [
      "JSON file '../data/output/Generated_NER_Examples.json' created successfully.\n"
     ]
    }
   ],
   "source": [
    "# Save the DataFrame to a JSON file\n",
    "json_file_path = \"../data/output/Generated_NER_Examples.json\"\n",
    "os.makedirs(os.path.dirname(json_file_path), exist_ok=True)\n",
    "\n",
    "with open(json_file_path, 'w') as json_file:\n",
    "    json.dump(parsed_events, json_file, ensure_ascii=False, indent=4)\n",
    "\n",
    "print(f\"JSON file '{json_file_path}' created successfully.\")"
   ]
  },
  {
   "cell_type": "code",
   "execution_count": null,
   "metadata": {},
   "outputs": [],
   "source": []
  }
 ],
 "metadata": {
  "kaggle": {
   "accelerator": "none",
   "dataSources": [
    {
     "datasetId": 6524545,
     "sourceId": 10545141,
     "sourceType": "datasetVersion"
    }
   ],
   "dockerImageVersionId": 30839,
   "isGpuEnabled": false,
   "isInternetEnabled": true,
   "language": "python",
   "sourceType": "notebook"
  },
  "kernelspec": {
   "display_name": "venv",
   "language": "python",
   "name": "python3"
  },
  "language_info": {
   "codemirror_mode": {
    "name": "ipython",
    "version": 3
   },
   "file_extension": ".py",
   "mimetype": "text/x-python",
   "name": "python",
   "nbconvert_exporter": "python",
   "pygments_lexer": "ipython3",
   "version": "3.10.9"
  }
 },
 "nbformat": 4,
 "nbformat_minor": 4
}
